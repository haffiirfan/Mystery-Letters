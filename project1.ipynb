{
 "cells": [
  {
   "cell_type": "code",
   "execution_count": 39,
   "id": "c56ad7a4-00fc-41db-8856-307aa737c02d",
   "metadata": {
    "editable": true,
    "slideshow": {
     "slide_type": ""
    },
    "tags": []
   },
   "outputs": [
    {
     "name": "stdout",
     "output_type": "stream",
     "text": [
      "Bagels, a deductive logic game.\n",
      "    By AI Sweigart\n",
      "\n",
      "    I am thinking of a 2-digit letter  with no repeated digits.\n",
      "    Try to guess what it is. Here are some clues:\n",
      "    When I say:      That means:\n",
      "    Pico             One digit is correct in the wrong position\n",
      "    Fermi            One digit is correct in the right position\n",
      "    Bagels           No digit is correct\n",
      "\n",
      "    Returns a string with the pico, fermi, bagels clues for a guess and secret\n",
      "    number pair.\n",
      "I have thought up a number\n",
      "You have 12 guesses to get it.\n",
      "Guess 1: \n"
     ]
    },
    {
     "name": "stdin",
     "output_type": "stream",
     "text": [
      ">  as\n"
     ]
    },
    {
     "name": "stdout",
     "output_type": "stream",
     "text": [
      "Bagels\n",
      "Guess 2: \n"
     ]
    },
    {
     "name": "stdin",
     "output_type": "stream",
     "text": [
      ">  df\n"
     ]
    },
    {
     "name": "stdout",
     "output_type": "stream",
     "text": [
      "Bagels\n",
      "Guess 3: \n"
     ]
    },
    {
     "name": "stdin",
     "output_type": "stream",
     "text": [
      ">  gh\n"
     ]
    },
    {
     "name": "stdout",
     "output_type": "stream",
     "text": [
      "Bagels\n",
      "Guess 4: \n"
     ]
    },
    {
     "name": "stdin",
     "output_type": "stream",
     "text": [
      ">  jk\n"
     ]
    },
    {
     "name": "stdout",
     "output_type": "stream",
     "text": [
      "Bagels\n",
      "Guess 5: \n"
     ]
    },
    {
     "name": "stdin",
     "output_type": "stream",
     "text": [
      ">  lq\n"
     ]
    },
    {
     "name": "stdout",
     "output_type": "stream",
     "text": [
      "Bagels\n",
      "Guess 6: \n"
     ]
    },
    {
     "name": "stdin",
     "output_type": "stream",
     "text": [
      ">  we\n"
     ]
    },
    {
     "name": "stdout",
     "output_type": "stream",
     "text": [
      "Bagels\n",
      "Guess 7: \n"
     ]
    },
    {
     "name": "stdin",
     "output_type": "stream",
     "text": [
      ">  rt\n"
     ]
    },
    {
     "name": "stdout",
     "output_type": "stream",
     "text": [
      "Pico\n",
      "Guess 8: \n"
     ]
    },
    {
     "name": "stdin",
     "output_type": "stream",
     "text": [
      ">  ty\n"
     ]
    },
    {
     "name": "stdout",
     "output_type": "stream",
     "text": [
      "Bagels\n",
      "Guess 9: \n"
     ]
    },
    {
     "name": "stdin",
     "output_type": "stream",
     "text": [
      ">  ru\n"
     ]
    },
    {
     "name": "stdout",
     "output_type": "stream",
     "text": [
      "Pico\n",
      "Guess 10: \n"
     ]
    },
    {
     "name": "stdin",
     "output_type": "stream",
     "text": [
      ">  rr\n"
     ]
    },
    {
     "name": "stdout",
     "output_type": "stream",
     "text": [
      "Fermi Pico\n",
      "Guess 11: \n"
     ]
    },
    {
     "name": "stdin",
     "output_type": "stream",
     "text": [
      ">  ir\n"
     ]
    },
    {
     "name": "stdout",
     "output_type": "stream",
     "text": [
      "Fermi\n",
      "Guess 12: \n"
     ]
    },
    {
     "name": "stdin",
     "output_type": "stream",
     "text": [
      ">  rp\n"
     ]
    },
    {
     "name": "stdout",
     "output_type": "stream",
     "text": [
      "Pico\n",
      "You ran out of guesses. The answer was nr.\n",
      "Do you want to play again?(Yes OR No)\n"
     ]
    },
    {
     "name": "stdin",
     "output_type": "stream",
     "text": [
      ">  no\n"
     ]
    },
    {
     "name": "stdout",
     "output_type": "stream",
     "text": [
      "Thanks for Playing!\n"
     ]
    }
   ],
   "source": [
    "###### \"\"\"Bagels, by AI Sweigart\"\"\"\n",
    "import random\n",
    "import string\n",
    "\n",
    "num_letters=2\n",
    "max_guesses=15\n",
    "\n",
    "def main():\n",
    "    print('''Bagels, a deductive logic game.\n",
    "    By AI Sweigart\n",
    "\n",
    "    I am thinking of a 2-digit letter  with no repeated digits.\n",
    "    Try to guess what it is. Here are some clues:\n",
    "    When I say:      That means:\n",
    "    Pico             One digit is correct in the wrong position\n",
    "    Fermi            One digit is correct in the right position\n",
    "    Bagels           No digit is correct\n",
    "\n",
    "    Returns a string with the pico, fermi, bagels clues for a guess and secret\n",
    "    number pair.''')\n",
    "    \n",
    "    while True:\n",
    "        secretWord=getSecretWord()\n",
    "        print(\"I have thought up a number\")\n",
    "        print(f\"You have {max_guesses} guesses to get it.\")\n",
    "\n",
    "        numGuesses=1\n",
    "        while numGuesses<=max_guesses:\n",
    "            guess=\"\"\n",
    "            while len(guess)!=num_letters or not guess.isalpha():\n",
    "                print(f\"Guess {numGuesses}: \")\n",
    "                guess=input(\"> \").lower()\n",
    "\n",
    "            clues=getClues(guess,secretWord)\n",
    "            print(clues)\n",
    "            numGuesses+=1\n",
    "\n",
    "            if guess==secretWord:\n",
    "                break\n",
    "            if numGuesses>max_guesses:\n",
    "                print(f\"You ran out of guesses. The answer was {secretWord}.\")\n",
    "\n",
    "        print(\"Do you want to play again?(Yes OR No)\")\n",
    "        if not input (\"> \").lower().startswith(\"y\"):\n",
    "            break\n",
    "    print(\"Thanks for Playing!\")\n",
    "\n",
    "def getSecretWord():\n",
    "    \"\"\"Return a string made up of num_letter unique random digits.\"\"\"\n",
    "    letters=list(string.ascii_lowercase)\n",
    "    random.shuffle(letters)\n",
    "    secretWord=\"\".join(letters[:num_letters])\n",
    "    return secretWord\n",
    "\n",
    "def getClues(guess,secretWord):\n",
    "    \"\"\"Returns a string with the pico, fermi, bagels\n",
    "    clues for a guess and secret number pair.\"\"\"\n",
    "    if guess==secretWord:\n",
    "        return \"You got it!\"\n",
    "\n",
    "    clues=[]\n",
    "    for i in range(len(guess)):\n",
    "        if guess[i]==secretWord[i]:\n",
    "            clues.append(\"Fermi\")\n",
    "        elif guess[i] in secretWord:\n",
    "            clues.append(\"Pico\")\n",
    "    if len(clues)==0:\n",
    "        return \"Bagels\"\n",
    "    else:\n",
    "        clues.sort()\n",
    "        return \" \".join(clues)\n",
    "\n",
    "if __name__==\"__main__\":\n",
    "    main()\n",
    "    "
   ]
  },
  {
   "cell_type": "code",
   "execution_count": null,
   "id": "e2f27ec2-21d1-4858-961f-b7a0ea5f1ad6",
   "metadata": {},
   "outputs": [],
   "source": []
  }
 ],
 "metadata": {
  "kernelspec": {
   "display_name": "Python [conda env:base] *",
   "language": "python",
   "name": "conda-base-py"
  },
  "language_info": {
   "codemirror_mode": {
    "name": "ipython",
    "version": 3
   },
   "file_extension": ".py",
   "mimetype": "text/x-python",
   "name": "python",
   "nbconvert_exporter": "python",
   "pygments_lexer": "ipython3",
   "version": "3.12.7"
  }
 },
 "nbformat": 4,
 "nbformat_minor": 5
}
